{
 "cells": [
  {
   "cell_type": "code",
   "execution_count": 1,
   "id": "5348bb37",
   "metadata": {},
   "outputs": [],
   "source": [
    "import pandas as pd \n",
    "import numpy as np \n",
    "\n",
    "################# Machine Learning ################\n",
    "import statsmodels\n",
    "from statsmodels.stats.anova import anova_lm\n",
    "from statsmodels.stats.outliers_influence import variance_inflation_factor\n",
    "\n",
    "################# Data Visualization ################\n",
    "import seaborn as sns\n",
    "from matplotlib import pyplot as plt\n",
    "%matplotlib inline"
   ]
  },
  {
   "cell_type": "markdown",
   "id": "5ddfd207",
   "metadata": {},
   "source": [
    "# Data Import"
   ]
  },
  {
   "cell_type": "code",
   "execution_count": 2,
   "id": "ee3de5de",
   "metadata": {},
   "outputs": [
    {
     "data": {
      "text/html": [
       "<div>\n",
       "<style scoped>\n",
       "    .dataframe tbody tr th:only-of-type {\n",
       "        vertical-align: middle;\n",
       "    }\n",
       "\n",
       "    .dataframe tbody tr th {\n",
       "        vertical-align: top;\n",
       "    }\n",
       "\n",
       "    .dataframe thead th {\n",
       "        text-align: right;\n",
       "    }\n",
       "</style>\n",
       "<table border=\"1\" class=\"dataframe\">\n",
       "  <thead>\n",
       "    <tr style=\"text-align: right;\">\n",
       "      <th></th>\n",
       "      <th>Price_in_thousands</th>\n",
       "      <th>Engine_size</th>\n",
       "      <th>Horsepower</th>\n",
       "      <th>Wheelbase</th>\n",
       "      <th>Width</th>\n",
       "      <th>Length</th>\n",
       "      <th>Curb_weight</th>\n",
       "      <th>Fuel_capacity</th>\n",
       "      <th>Fuel_efficiency</th>\n",
       "      <th>Resale</th>\n",
       "    </tr>\n",
       "  </thead>\n",
       "  <tbody>\n",
       "    <tr>\n",
       "      <th>0</th>\n",
       "      <td>21.50</td>\n",
       "      <td>1.8</td>\n",
       "      <td>140</td>\n",
       "      <td>101.2</td>\n",
       "      <td>67.3</td>\n",
       "      <td>172.4</td>\n",
       "      <td>2.639</td>\n",
       "      <td>13.2</td>\n",
       "      <td>28</td>\n",
       "      <td>16.360</td>\n",
       "    </tr>\n",
       "    <tr>\n",
       "      <th>1</th>\n",
       "      <td>28.40</td>\n",
       "      <td>3.2</td>\n",
       "      <td>225</td>\n",
       "      <td>108.1</td>\n",
       "      <td>70.3</td>\n",
       "      <td>192.9</td>\n",
       "      <td>3.517</td>\n",
       "      <td>17.2</td>\n",
       "      <td>25</td>\n",
       "      <td>19.875</td>\n",
       "    </tr>\n",
       "    <tr>\n",
       "      <th>2</th>\n",
       "      <td>35.00</td>\n",
       "      <td>3.2</td>\n",
       "      <td>225</td>\n",
       "      <td>106.9</td>\n",
       "      <td>70.6</td>\n",
       "      <td>192.0</td>\n",
       "      <td>3.470</td>\n",
       "      <td>17.2</td>\n",
       "      <td>26</td>\n",
       "      <td>18.225</td>\n",
       "    </tr>\n",
       "    <tr>\n",
       "      <th>3</th>\n",
       "      <td>42.00</td>\n",
       "      <td>3.5</td>\n",
       "      <td>210</td>\n",
       "      <td>114.6</td>\n",
       "      <td>71.4</td>\n",
       "      <td>196.6</td>\n",
       "      <td>3.850</td>\n",
       "      <td>18.0</td>\n",
       "      <td>22</td>\n",
       "      <td>29.725</td>\n",
       "    </tr>\n",
       "    <tr>\n",
       "      <th>4</th>\n",
       "      <td>23.99</td>\n",
       "      <td>1.8</td>\n",
       "      <td>150</td>\n",
       "      <td>102.6</td>\n",
       "      <td>68.2</td>\n",
       "      <td>178.0</td>\n",
       "      <td>2.998</td>\n",
       "      <td>16.4</td>\n",
       "      <td>27</td>\n",
       "      <td>22.255</td>\n",
       "    </tr>\n",
       "    <tr>\n",
       "      <th>...</th>\n",
       "      <td>...</td>\n",
       "      <td>...</td>\n",
       "      <td>...</td>\n",
       "      <td>...</td>\n",
       "      <td>...</td>\n",
       "      <td>...</td>\n",
       "      <td>...</td>\n",
       "      <td>...</td>\n",
       "      <td>...</td>\n",
       "      <td>...</td>\n",
       "    </tr>\n",
       "    <tr>\n",
       "      <th>151</th>\n",
       "      <td>24.40</td>\n",
       "      <td>1.9</td>\n",
       "      <td>160</td>\n",
       "      <td>100.5</td>\n",
       "      <td>67.6</td>\n",
       "      <td>176.6</td>\n",
       "      <td>3.042</td>\n",
       "      <td>15.8</td>\n",
       "      <td>25</td>\n",
       "      <td>18.061</td>\n",
       "    </tr>\n",
       "    <tr>\n",
       "      <th>152</th>\n",
       "      <td>27.50</td>\n",
       "      <td>2.4</td>\n",
       "      <td>168</td>\n",
       "      <td>104.9</td>\n",
       "      <td>69.3</td>\n",
       "      <td>185.9</td>\n",
       "      <td>3.208</td>\n",
       "      <td>17.9</td>\n",
       "      <td>25</td>\n",
       "      <td>18.061</td>\n",
       "    </tr>\n",
       "    <tr>\n",
       "      <th>153</th>\n",
       "      <td>28.80</td>\n",
       "      <td>2.4</td>\n",
       "      <td>168</td>\n",
       "      <td>104.9</td>\n",
       "      <td>69.3</td>\n",
       "      <td>186.2</td>\n",
       "      <td>3.259</td>\n",
       "      <td>17.9</td>\n",
       "      <td>25</td>\n",
       "      <td>18.061</td>\n",
       "    </tr>\n",
       "    <tr>\n",
       "      <th>154</th>\n",
       "      <td>45.50</td>\n",
       "      <td>2.3</td>\n",
       "      <td>236</td>\n",
       "      <td>104.9</td>\n",
       "      <td>71.5</td>\n",
       "      <td>185.7</td>\n",
       "      <td>3.601</td>\n",
       "      <td>18.5</td>\n",
       "      <td>23</td>\n",
       "      <td>18.061</td>\n",
       "    </tr>\n",
       "    <tr>\n",
       "      <th>155</th>\n",
       "      <td>36.00</td>\n",
       "      <td>2.9</td>\n",
       "      <td>201</td>\n",
       "      <td>109.9</td>\n",
       "      <td>72.1</td>\n",
       "      <td>189.8</td>\n",
       "      <td>3.600</td>\n",
       "      <td>21.1</td>\n",
       "      <td>24</td>\n",
       "      <td>18.061</td>\n",
       "    </tr>\n",
       "  </tbody>\n",
       "</table>\n",
       "<p>156 rows × 10 columns</p>\n",
       "</div>"
      ],
      "text/plain": [
       "     Price_in_thousands  Engine_size  Horsepower  Wheelbase  Width  Length  \\\n",
       "0                 21.50          1.8         140      101.2   67.3   172.4   \n",
       "1                 28.40          3.2         225      108.1   70.3   192.9   \n",
       "2                 35.00          3.2         225      106.9   70.6   192.0   \n",
       "3                 42.00          3.5         210      114.6   71.4   196.6   \n",
       "4                 23.99          1.8         150      102.6   68.2   178.0   \n",
       "..                  ...          ...         ...        ...    ...     ...   \n",
       "151               24.40          1.9         160      100.5   67.6   176.6   \n",
       "152               27.50          2.4         168      104.9   69.3   185.9   \n",
       "153               28.80          2.4         168      104.9   69.3   186.2   \n",
       "154               45.50          2.3         236      104.9   71.5   185.7   \n",
       "155               36.00          2.9         201      109.9   72.1   189.8   \n",
       "\n",
       "     Curb_weight  Fuel_capacity  Fuel_efficiency  Resale  \n",
       "0          2.639           13.2               28  16.360  \n",
       "1          3.517           17.2               25  19.875  \n",
       "2          3.470           17.2               26  18.225  \n",
       "3          3.850           18.0               22  29.725  \n",
       "4          2.998           16.4               27  22.255  \n",
       "..           ...            ...              ...     ...  \n",
       "151        3.042           15.8               25  18.061  \n",
       "152        3.208           17.9               25  18.061  \n",
       "153        3.259           17.9               25  18.061  \n",
       "154        3.601           18.5               23  18.061  \n",
       "155        3.600           21.1               24  18.061  \n",
       "\n",
       "[156 rows x 10 columns]"
      ]
     },
     "execution_count": 2,
     "metadata": {},
     "output_type": "execute_result"
    }
   ],
   "source": [
    "new=pd.read_excel(r\"C:\\Users\\Sai\\Desktop\\python\\Machine Learning\\MLR\\Car Price Prediction.xlsx\")\n",
    "new"
   ]
  },
  {
   "cell_type": "markdown",
   "id": "803265e7",
   "metadata": {},
   "source": [
    "## Data Type"
   ]
  },
  {
   "cell_type": "code",
   "execution_count": 3,
   "id": "7df0880c",
   "metadata": {},
   "outputs": [
    {
     "name": "stdout",
     "output_type": "stream",
     "text": [
      "<class 'pandas.core.frame.DataFrame'>\n",
      "RangeIndex: 156 entries, 0 to 155\n",
      "Data columns (total 10 columns):\n",
      " #   Column              Non-Null Count  Dtype  \n",
      "---  ------              --------------  -----  \n",
      " 0   Price_in_thousands  156 non-null    float64\n",
      " 1   Engine_size         156 non-null    float64\n",
      " 2   Horsepower          156 non-null    int64  \n",
      " 3   Wheelbase           156 non-null    float64\n",
      " 4   Width               156 non-null    float64\n",
      " 5   Length              156 non-null    float64\n",
      " 6   Curb_weight         156 non-null    float64\n",
      " 7   Fuel_capacity       156 non-null    float64\n",
      " 8   Fuel_efficiency     156 non-null    int64  \n",
      " 9   Resale              156 non-null    float64\n",
      "dtypes: float64(8), int64(2)\n",
      "memory usage: 12.3 KB\n"
     ]
    }
   ],
   "source": [
    "new.info()"
   ]
  },
  {
   "cell_type": "markdown",
   "id": "a32729cd",
   "metadata": {},
   "source": [
    "# Univariate Analysis"
   ]
  },
  {
   "cell_type": "code",
   "execution_count": 4,
   "id": "e1d424a2",
   "metadata": {},
   "outputs": [
    {
     "data": {
      "text/html": [
       "<div>\n",
       "<style scoped>\n",
       "    .dataframe tbody tr th:only-of-type {\n",
       "        vertical-align: middle;\n",
       "    }\n",
       "\n",
       "    .dataframe tbody tr th {\n",
       "        vertical-align: top;\n",
       "    }\n",
       "\n",
       "    .dataframe thead th {\n",
       "        text-align: right;\n",
       "    }\n",
       "</style>\n",
       "<table border=\"1\" class=\"dataframe\">\n",
       "  <thead>\n",
       "    <tr style=\"text-align: right;\">\n",
       "      <th></th>\n",
       "      <th>Price_in_thousands</th>\n",
       "      <th>Engine_size</th>\n",
       "      <th>Horsepower</th>\n",
       "      <th>Wheelbase</th>\n",
       "      <th>Width</th>\n",
       "      <th>Length</th>\n",
       "      <th>Curb_weight</th>\n",
       "      <th>Fuel_capacity</th>\n",
       "      <th>Fuel_efficiency</th>\n",
       "      <th>Resale</th>\n",
       "    </tr>\n",
       "  </thead>\n",
       "  <tbody>\n",
       "    <tr>\n",
       "      <th>count</th>\n",
       "      <td>156.000000</td>\n",
       "      <td>156.000000</td>\n",
       "      <td>156.000000</td>\n",
       "      <td>156.000000</td>\n",
       "      <td>156.000000</td>\n",
       "      <td>156.000000</td>\n",
       "      <td>156.000000</td>\n",
       "      <td>156.000000</td>\n",
       "      <td>156.000000</td>\n",
       "      <td>156.000000</td>\n",
       "    </tr>\n",
       "    <tr>\n",
       "      <th>mean</th>\n",
       "      <td>27.439532</td>\n",
       "      <td>3.060897</td>\n",
       "      <td>185.948718</td>\n",
       "      <td>107.487179</td>\n",
       "      <td>71.150000</td>\n",
       "      <td>187.343590</td>\n",
       "      <td>3.381949</td>\n",
       "      <td>17.951923</td>\n",
       "      <td>23.878205</td>\n",
       "      <td>18.060808</td>\n",
       "    </tr>\n",
       "    <tr>\n",
       "      <th>std</th>\n",
       "      <td>14.318249</td>\n",
       "      <td>1.044653</td>\n",
       "      <td>56.700321</td>\n",
       "      <td>7.641303</td>\n",
       "      <td>3.451872</td>\n",
       "      <td>13.431754</td>\n",
       "      <td>0.630372</td>\n",
       "      <td>3.887921</td>\n",
       "      <td>4.296049</td>\n",
       "      <td>10.076940</td>\n",
       "    </tr>\n",
       "    <tr>\n",
       "      <th>min</th>\n",
       "      <td>9.235000</td>\n",
       "      <td>1.000000</td>\n",
       "      <td>55.000000</td>\n",
       "      <td>92.600000</td>\n",
       "      <td>62.600000</td>\n",
       "      <td>149.400000</td>\n",
       "      <td>1.895000</td>\n",
       "      <td>10.300000</td>\n",
       "      <td>15.000000</td>\n",
       "      <td>5.160000</td>\n",
       "    </tr>\n",
       "    <tr>\n",
       "      <th>25%</th>\n",
       "      <td>18.081250</td>\n",
       "      <td>2.300000</td>\n",
       "      <td>149.500000</td>\n",
       "      <td>103.000000</td>\n",
       "      <td>68.400000</td>\n",
       "      <td>177.575000</td>\n",
       "      <td>2.973000</td>\n",
       "      <td>15.800000</td>\n",
       "      <td>21.000000</td>\n",
       "      <td>12.527500</td>\n",
       "    </tr>\n",
       "    <tr>\n",
       "      <th>50%</th>\n",
       "      <td>23.099500</td>\n",
       "      <td>3.000000</td>\n",
       "      <td>177.500000</td>\n",
       "      <td>107.000000</td>\n",
       "      <td>70.550000</td>\n",
       "      <td>187.900000</td>\n",
       "      <td>3.355000</td>\n",
       "      <td>17.200000</td>\n",
       "      <td>24.000000</td>\n",
       "      <td>17.617500</td>\n",
       "    </tr>\n",
       "    <tr>\n",
       "      <th>75%</th>\n",
       "      <td>32.253750</td>\n",
       "      <td>3.575000</td>\n",
       "      <td>215.000000</td>\n",
       "      <td>112.200000</td>\n",
       "      <td>73.425000</td>\n",
       "      <td>196.125000</td>\n",
       "      <td>3.821500</td>\n",
       "      <td>19.575000</td>\n",
       "      <td>26.000000</td>\n",
       "      <td>18.080750</td>\n",
       "    </tr>\n",
       "    <tr>\n",
       "      <th>max</th>\n",
       "      <td>85.500000</td>\n",
       "      <td>8.000000</td>\n",
       "      <td>450.000000</td>\n",
       "      <td>138.700000</td>\n",
       "      <td>79.900000</td>\n",
       "      <td>224.500000</td>\n",
       "      <td>5.572000</td>\n",
       "      <td>32.000000</td>\n",
       "      <td>45.000000</td>\n",
       "      <td>67.550000</td>\n",
       "    </tr>\n",
       "  </tbody>\n",
       "</table>\n",
       "</div>"
      ],
      "text/plain": [
       "       Price_in_thousands  Engine_size  Horsepower   Wheelbase       Width  \\\n",
       "count          156.000000   156.000000  156.000000  156.000000  156.000000   \n",
       "mean            27.439532     3.060897  185.948718  107.487179   71.150000   \n",
       "std             14.318249     1.044653   56.700321    7.641303    3.451872   \n",
       "min              9.235000     1.000000   55.000000   92.600000   62.600000   \n",
       "25%             18.081250     2.300000  149.500000  103.000000   68.400000   \n",
       "50%             23.099500     3.000000  177.500000  107.000000   70.550000   \n",
       "75%             32.253750     3.575000  215.000000  112.200000   73.425000   \n",
       "max             85.500000     8.000000  450.000000  138.700000   79.900000   \n",
       "\n",
       "           Length  Curb_weight  Fuel_capacity  Fuel_efficiency      Resale  \n",
       "count  156.000000   156.000000     156.000000       156.000000  156.000000  \n",
       "mean   187.343590     3.381949      17.951923        23.878205   18.060808  \n",
       "std     13.431754     0.630372       3.887921         4.296049   10.076940  \n",
       "min    149.400000     1.895000      10.300000        15.000000    5.160000  \n",
       "25%    177.575000     2.973000      15.800000        21.000000   12.527500  \n",
       "50%    187.900000     3.355000      17.200000        24.000000   17.617500  \n",
       "75%    196.125000     3.821500      19.575000        26.000000   18.080750  \n",
       "max    224.500000     5.572000      32.000000        45.000000   67.550000  "
      ]
     },
     "execution_count": 4,
     "metadata": {},
     "output_type": "execute_result"
    }
   ],
   "source": [
    "new.describe() "
   ]
  },
  {
   "cell_type": "markdown",
   "id": "cdbc02d0",
   "metadata": {},
   "source": [
    "# EDA\n",
    "* Identify & Treatment of Outlier"
   ]
  },
  {
   "cell_type": "code",
   "execution_count": 5,
   "id": "cea8286d",
   "metadata": {},
   "outputs": [
    {
     "data": {
      "text/plain": [
       "<AxesSubplot:>"
      ]
     },
     "execution_count": 5,
     "metadata": {},
     "output_type": "execute_result"
    },
    {
     "data": {
      "image/png": "[encoded data removed]",
      "text/plain": [
       "<Figure size 432x288 with 1 Axes>"
      ]
     },
     "metadata": {
      "needs_background": "light"
     },
     "output_type": "display_data"
    }
   ],
   "source": [
    "sns.boxplot(data=new)"
   ]
  },
  {
   "cell_type": "code",
   "execution_count": 6,
   "id": "01682c7b",
   "metadata": {},
   "outputs": [
    {
     "data": {
      "image/png": "[encoded data removed]",
      "text/plain": [
       "<Figure size 432x288 with 1 Axes>"
      ]
     },
     "metadata": {
      "needs_background": "light"
     },
     "output_type": "display_data"
    },
    {
     "data": {
      "image/png": "[encoded data removed]",
      "text/plain": [
       "<Figure size 432x288 with 1 Axes>"
      ]
     },
     "metadata": {
      "needs_background": "light"
     },
     "output_type": "display_data"
    },
    {
     "data": {
      "image/png": "[encoded data removed]",
      "text/plain": [
       "<Figure size 432x288 with 1 Axes>"
      ]
     },
     "metadata": {
      "needs_background": "light"
     },
     "output_type": "display_data"
    },
    {
     "data": {
      "image/png": "[encoded data removed]",
      "text/plain": [
       "<Figure size 432x288 with 1 Axes>"
      ]
     },
     "metadata": {
      "needs_background": "light"
     },
     "output_type": "display_data"
    },
    {
     "data": {
      "image/png": "[encoded data removed]",
      "text/plain": [
       "<Figure size 432x288 with 1 Axes>"
      ]
     },
     "metadata": {
      "needs_background": "light"
     },
     "output_type": "display_data"
    },
    {
     "data": {
      "image/png": "[encoded data removed]",
      "text/plain": [
       "<Figure size 432x288 with 1 Axes>"
      ]
     },
     "metadata": {
      "needs_background": "light"
     },
     "output_type": "display_data"
    },
    {
     "data": {
      "image/png": "[encoded data removed]",
      "text/plain": [
       "<Figure size 432x288 with 1 Axes>"
      ]
     },
     "metadata": {
      "needs_background": "light"
     },
     "output_type": "display_data"
    },
    {
     "data": {
      "image/png": "[encoded data removed]",
      "text/plain": [
       "<Figure size 432x288 with 1 Axes>"
      ]
     },
     "metadata": {
      "needs_background": "light"
     },
     "output_type": "display_data"
    },
    {
     "data": {
      "image/png": "[encoded data removed]",
      "text/plain": [
       "<Figure size 432x288 with 1 Axes>"
      ]
     },
     "metadata": {
      "needs_background": "light"
     },
     "output_type": "display_data"
    },
    {
     "data": {
      "image/png": "[encoded data removed]",
      "text/plain": [
       "<Figure size 432x288 with 1 Axes>"
      ]
     },
     "metadata": {
      "needs_background": "light"
     },
     "output_type": "display_data"
    }
   ],
   "source": [
    "import matplotlib.pyplot as plt\n",
    "i=[\t\"Price_in_thousands\",\"Engine_size\",\"Horsepower\",\"Wheelbase\",\"Width\",\"Length\",\"Curb_weight\",\"Fuel_capacity\",\"Fuel_efficiency\",\"Resale\"]\n",
    "\n",
    "for j in i:\n",
    "    plt.figure()\n",
    "    sns.boxplot(y=new[j])"
   ]
  },
  {
   "cell_type": "code",
   "execution_count": 7,
   "id": "d0facbea",
   "metadata": {},
   "outputs": [],
   "source": [
    "def outliers(df,colname):\n",
    "    q1 = df[colname].quantile(0.25)\n",
    "    q3 = df[colname].quantile(0.75)\n",
    "    iqr = q3-q1 #Interquartile range\n",
    "    low_limit = q1-1.5*iqr #acceptable range\n",
    "    upper_limit = q3+1.5*iqr #acceptable range\n",
    "    df[colname]=(np.where(df[colname] > upper_limit,upper_limit,df[colname])) \n",
    "\n",
    "    return df[colname]"
   ]
  },
  {
   "cell_type": "code",
   "execution_count": 8,
   "id": "f635d2c6",
   "metadata": {},
   "outputs": [
    {
     "name": "stdout",
     "output_type": "stream",
     "text": [
      "0      21.50\n",
      "1      28.40\n",
      "2      35.00\n",
      "3      42.00\n",
      "4      23.99\n",
      "       ...  \n",
      "151    24.40\n",
      "152    27.50\n",
      "153    28.80\n",
      "154    45.50\n",
      "155    36.00\n",
      "Name: Price_in_thousands, Length: 156, dtype: float64\n",
      "0      1.8\n",
      "1      3.2\n",
      "2      3.2\n",
      "3      3.5\n",
      "4      1.8\n",
      "      ... \n",
      "151    1.9\n",
      "152    2.4\n",
      "153    2.4\n",
      "154    2.3\n",
      "155    2.9\n",
      "Name: Engine_size, Length: 156, dtype: float64\n",
      "0      140.0\n",
      "1      225.0\n",
      "2      225.0\n",
      "3      210.0\n",
      "4      150.0\n",
      "       ...  \n",
      "151    160.0\n",
      "152    168.0\n",
      "153    168.0\n",
      "154    236.0\n",
      "155    201.0\n",
      "Name: Horsepower, Length: 156, dtype: float64\n",
      "0      101.2\n",
      "1      108.1\n",
      "2      106.9\n",
      "3      114.6\n",
      "4      102.6\n",
      "       ...  \n",
      "151    100.5\n",
      "152    104.9\n",
      "153    104.9\n",
      "154    104.9\n",
      "155    109.9\n",
      "Name: Wheelbase, Length: 156, dtype: float64\n",
      "0      67.3\n",
      "1      70.3\n",
      "2      70.6\n",
      "3      71.4\n",
      "4      68.2\n",
      "       ... \n",
      "151    67.6\n",
      "152    69.3\n",
      "153    69.3\n",
      "154    71.5\n",
      "155    72.1\n",
      "Name: Width, Length: 156, dtype: float64\n",
      "0      172.4\n",
      "1      192.9\n",
      "2      192.0\n",
      "3      196.6\n",
      "4      178.0\n",
      "       ...  \n",
      "151    176.6\n",
      "152    185.9\n",
      "153    186.2\n",
      "154    185.7\n",
      "155    189.8\n",
      "Name: Length, Length: 156, dtype: float64\n",
      "0      2.639\n",
      "1      3.517\n",
      "2      3.470\n",
      "3      3.850\n",
      "4      2.998\n",
      "       ...  \n",
      "151    3.042\n",
      "152    3.208\n",
      "153    3.259\n",
      "154    3.601\n",
      "155    3.600\n",
      "Name: Curb_weight, Length: 156, dtype: float64\n",
      "0      13.2\n",
      "1      17.2\n",
      "2      17.2\n",
      "3      18.0\n",
      "4      16.4\n",
      "       ... \n",
      "151    15.8\n",
      "152    17.9\n",
      "153    17.9\n",
      "154    18.5\n",
      "155    21.1\n",
      "Name: Fuel_capacity, Length: 156, dtype: float64\n",
      "0      28.0\n",
      "1      25.0\n",
      "2      26.0\n",
      "3      22.0\n",
      "4      27.0\n",
      "       ... \n",
      "151    25.0\n",
      "152    25.0\n",
      "153    25.0\n",
      "154    23.0\n",
      "155    24.0\n",
      "Name: Fuel_efficiency, Length: 156, dtype: float64\n",
      "0      16.360000\n",
      "1      19.875000\n",
      "2      18.225000\n",
      "3      26.410625\n",
      "4      22.255000\n",
      "         ...    \n",
      "151    18.061000\n",
      "152    18.061000\n",
      "153    18.061000\n",
      "154    18.061000\n",
      "155    18.061000\n",
      "Name: Resale, Length: 156, dtype: float64\n"
     ]
    }
   ],
   "source": [
    "for j in i:\n",
    "    print(outliers(new,j))"
   ]
  },
  {
   "cell_type": "code",
   "execution_count": 9,
   "id": "0b4d8efb",
   "metadata": {},
   "outputs": [
    {
     "data": {
      "image/png": "[encoded data removed]",
      "text/plain": [
       "<Figure size 432x288 with 1 Axes>"
      ]
     },
     "metadata": {
      "needs_background": "light"
     },
     "output_type": "display_data"
    },
    {
     "data": {
      "image/png": "[encoded data removed]",
      "text/plain": [
       "<Figure size 432x288 with 1 Axes>"
      ]
     },
     "metadata": {
      "needs_background": "light"
     },
     "output_type": "display_data"
    },
    {
     "data": {
      "image/png": "[encoded data removed]",
      "text/plain": [
       "<Figure size 432x288 with 1 Axes>"
      ]
     },
     "metadata": {
      "needs_background": "light"
     },
     "output_type": "display_data"
    },
    {
     "data": {
      "image/png": "[encoded data removed]",
      "text/plain": [
       "<Figure size 432x288 with 1 Axes>"
      ]
     },
     "metadata": {
      "needs_background": "light"
     },
     "output_type": "display_data"
    },
    {
     "data": {
      "image/png": "[encoded data removed]",
      "text/plain": [
       "<Figure size 432x288 with 1 Axes>"
      ]
     },
     "metadata": {
      "needs_background": "light"
     },
     "output_type": "display_data"
    },
    {
     "data": {
      "image/png": "[encoded data removed]",
      "text/plain": [
       "<Figure size 432x288 with 1 Axes>"
      ]
     },
     "metadata": {
      "needs_background": "light"
     },
     "output_type": "display_data"
    },
    {
     "data": {
      "image/png": "[encoded data removed]",
      "text/plain": [
       "<Figure size 432x288 with 1 Axes>"
      ]
     },
     "metadata": {
      "needs_background": "light"
     },
     "output_type": "display_data"
    },
    {
     "data": {
      "image/png": "[encoded data removed]",
      "text/plain": [
       "<Figure size 432x288 with 1 Axes>"
      ]
     },
     "metadata": {
      "needs_background": "light"
     },
     "output_type": "display_data"
    },
    {
     "data": {
      "image/png": "[encoded data removed]",
      "text/plain": [
       "<Figure size 432x288 with 1 Axes>"
      ]
     },
     "metadata": {
      "needs_background": "light"
     },
     "output_type": "display_data"
    },
    {
     "data": {
      "image/png": "[encoded data removed]",
      "text/plain": [
       "<Figure size 432x288 with 1 Axes>"
      ]
     },
     "metadata": {
      "needs_background": "light"
     },
     "output_type": "display_data"
    }
   ],
   "source": [
    "for j in i:\n",
    "    plt.figure()\n",
    "    sns.boxplot(y=new[j])"
   ]
  },
  {
   "cell_type": "code",
   "execution_count": 10,
   "id": "b5324a06",
   "metadata": {},
   "outputs": [
    {
     "data": {
      "image/png": "[encoded data removed]",
      "text/plain": [
       "<Figure size 432x288 with 1 Axes>"
      ]
     },
     "metadata": {
      "needs_background": "light"
     },
     "output_type": "display_data"
    }
   ],
   "source": [
    "ax = sns.boxplot(y=new[\"Length\"])"
   ]
  },
  {
   "cell_type": "code",
   "execution_count": 11,
   "id": "9cf4a263",
   "metadata": {},
   "outputs": [
    {
     "data": {
      "text/plain": [
       "149.74999999999997"
      ]
     },
     "execution_count": 11,
     "metadata": {},
     "output_type": "execute_result"
    }
   ],
   "source": [
    "q1 = new['Length'].quantile(0.25)\n",
    "q3 = new['Length'].quantile(0.75)\n",
    "iqr = q3-q1 #Interquartile range\n",
    "low_limit = q1-1.5*iqr #acceptable range\n",
    "upper_limit = q3+1.5*iqr #acceptable range\n",
    "low_limit"
   ]
  },
  {
   "cell_type": "code",
   "execution_count": 12,
   "id": "7f44383f",
   "metadata": {},
   "outputs": [],
   "source": [
    "new['Length']=np.where(new['Length'] < low_limit,low_limit,new['Length'])"
   ]
  },
  {
   "cell_type": "code",
   "execution_count": 13,
   "id": "50986d48",
   "metadata": {},
   "outputs": [
    {
     "data": {
      "image/png": "[encoded data removed]",
      "text/plain": [
       "<Figure size 432x288 with 1 Axes>"
      ]
     },
     "metadata": {
      "needs_background": "light"
     },
     "output_type": "display_data"
    }
   ],
   "source": [
    "ax = sns.boxplot(y=new[\"Length\"])"
   ]
  },
  {
   "cell_type": "code",
   "execution_count": 14,
   "id": "40bd8104",
   "metadata": {},
   "outputs": [
    {
     "data": {
      "image/png": "[encoded data removed]",
      "text/plain": [
       "<Figure size 432x288 with 1 Axes>"
      ]
     },
     "metadata": {
      "needs_background": "light"
     },
     "output_type": "display_data"
    },
    {
     "data": {
      "image/png": "[encoded data removed]",
      "text/plain": [
       "<Figure size 432x288 with 1 Axes>"
      ]
     },
     "metadata": {
      "needs_background": "light"
     },
     "output_type": "display_data"
    },
    {
     "data": {
      "image/png": "[encoded data removed]",
      "text/plain": [
       "<Figure size 432x288 with 1 Axes>"
      ]
     },
     "metadata": {
      "needs_background": "light"
     },
     "output_type": "display_data"
    },
    {
     "data": {
      "image/png": "[encoded data removed]",
      "text/plain": [
       "<Figure size 432x288 with 1 Axes>"
      ]
     },
     "metadata": {
      "needs_background": "light"
     },
     "output_type": "display_data"
    },
    {
     "data": {
      "image/png": "[encoded data removed]",
      "text/plain": [
       "<Figure size 432x288 with 1 Axes>"
      ]
     },
     "metadata": {
      "needs_background": "light"
     },
     "output_type": "display_data"
    },
    {
     "data": {
      "image/png": "[encoded data removed]",
      "text/plain": [
       "<Figure size 432x288 with 1 Axes>"
      ]
     },
     "metadata": {
      "needs_background": "light"
     },
     "output_type": "display_data"
    },
    {
     "data": {
      "image/png": "[encoded data removed]",
      "text/plain": [
       "<Figure size 432x288 with 1 Axes>"
      ]
     },
     "metadata": {
      "needs_background": "light"
     },
     "output_type": "display_data"
    },
    {
     "data": {
      "image/png": "[encoded data removed]",
      "text/plain": [
       "<Figure size 432x288 with 1 Axes>"
      ]
     },
     "metadata": {
      "needs_background": "light"
     },
     "output_type": "display_data"
    },
    {
     "data": {
      "image/png": "[encoded data removed]",
      "text/plain": [
       "<Figure size 432x288 with 1 Axes>"
      ]
     },
     "metadata": {
      "needs_background": "light"
     },
     "output_type": "display_data"
    },
    {
     "data": {
      "image/png": "[encoded data removed]",
      "text/plain": [
       "<Figure size 432x288 with 1 Axes>"
      ]
     },
     "metadata": {
      "needs_background": "light"
     },
     "output_type": "display_data"
    }
   ],
   "source": [
    "for j in i:\n",
    "    plt.figure()\n",
    "    sns.boxplot(y=new[j])"
   ]
  },
  {
   "cell_type": "code",
   "execution_count": 15,
   "id": "8c64f225",
   "metadata": {},
   "outputs": [
    {
     "data": {
      "text/plain": [
       "<AxesSubplot:>"
      ]
     },
     "execution_count": 15,
     "metadata": {},
     "output_type": "execute_result"
    },
    {
     "data": {
      "image/png": "[encoded data removed]",
      "text/plain": [
       "<Figure size 432x288 with 1 Axes>"
      ]
     },
     "metadata": {
      "needs_background": "light"
     },
     "output_type": "display_data"
    }
   ],
   "source": [
    "sns.boxplot(data=new)"
   ]
  },
  {
   "cell_type": "code",
   "execution_count": 16,
   "id": "c019cb7b",
   "metadata": {},
   "outputs": [
    {
     "data": {
      "text/html": [
       "<div>\n",
       "<style scoped>\n",
       "    .dataframe tbody tr th:only-of-type {\n",
       "        vertical-align: middle;\n",
       "    }\n",
       "\n",
       "    .dataframe tbody tr th {\n",
       "        vertical-align: top;\n",
       "    }\n",
       "\n",
       "    .dataframe thead th {\n",
       "        text-align: right;\n",
       "    }\n",
       "</style>\n",
       "<table border=\"1\" class=\"dataframe\">\n",
       "  <thead>\n",
       "    <tr style=\"text-align: right;\">\n",
       "      <th></th>\n",
       "      <th>Price_in_thousands</th>\n",
       "      <th>Engine_size</th>\n",
       "      <th>Horsepower</th>\n",
       "      <th>Wheelbase</th>\n",
       "      <th>Width</th>\n",
       "      <th>Length</th>\n",
       "      <th>Curb_weight</th>\n",
       "      <th>Fuel_capacity</th>\n",
       "      <th>Fuel_efficiency</th>\n",
       "      <th>Resale</th>\n",
       "    </tr>\n",
       "  </thead>\n",
       "  <tbody>\n",
       "    <tr>\n",
       "      <th>count</th>\n",
       "      <td>156.000000</td>\n",
       "      <td>156.000000</td>\n",
       "      <td>156.000000</td>\n",
       "      <td>156.000000</td>\n",
       "      <td>156.000000</td>\n",
       "      <td>156.000000</td>\n",
       "      <td>156.000000</td>\n",
       "      <td>156.000000</td>\n",
       "      <td>156.000000</td>\n",
       "      <td>156.000000</td>\n",
       "    </tr>\n",
       "    <tr>\n",
       "      <th>mean</th>\n",
       "      <td>26.490734</td>\n",
       "      <td>3.042067</td>\n",
       "      <td>184.868590</td>\n",
       "      <td>107.285897</td>\n",
       "      <td>71.150000</td>\n",
       "      <td>187.340705</td>\n",
       "      <td>3.374872</td>\n",
       "      <td>17.787420</td>\n",
       "      <td>23.804487</td>\n",
       "      <td>16.396100</td>\n",
       "    </tr>\n",
       "    <tr>\n",
       "      <th>std</th>\n",
       "      <td>11.539938</td>\n",
       "      <td>0.978600</td>\n",
       "      <td>53.007755</td>\n",
       "      <td>6.973438</td>\n",
       "      <td>3.451872</td>\n",
       "      <td>13.411235</td>\n",
       "      <td>0.608496</td>\n",
       "      <td>3.432476</td>\n",
       "      <td>4.021143</td>\n",
       "      <td>5.310127</td>\n",
       "    </tr>\n",
       "    <tr>\n",
       "      <th>min</th>\n",
       "      <td>9.235000</td>\n",
       "      <td>1.000000</td>\n",
       "      <td>55.000000</td>\n",
       "      <td>92.600000</td>\n",
       "      <td>62.600000</td>\n",
       "      <td>149.750000</td>\n",
       "      <td>1.895000</td>\n",
       "      <td>10.300000</td>\n",
       "      <td>15.000000</td>\n",
       "      <td>5.160000</td>\n",
       "    </tr>\n",
       "    <tr>\n",
       "      <th>25%</th>\n",
       "      <td>18.081250</td>\n",
       "      <td>2.300000</td>\n",
       "      <td>149.500000</td>\n",
       "      <td>103.000000</td>\n",
       "      <td>68.400000</td>\n",
       "      <td>177.575000</td>\n",
       "      <td>2.973000</td>\n",
       "      <td>15.800000</td>\n",
       "      <td>21.000000</td>\n",
       "      <td>12.527500</td>\n",
       "    </tr>\n",
       "    <tr>\n",
       "      <th>50%</th>\n",
       "      <td>23.099500</td>\n",
       "      <td>3.000000</td>\n",
       "      <td>177.500000</td>\n",
       "      <td>107.000000</td>\n",
       "      <td>70.550000</td>\n",
       "      <td>187.900000</td>\n",
       "      <td>3.355000</td>\n",
       "      <td>17.200000</td>\n",
       "      <td>24.000000</td>\n",
       "      <td>17.617500</td>\n",
       "    </tr>\n",
       "    <tr>\n",
       "      <th>75%</th>\n",
       "      <td>32.253750</td>\n",
       "      <td>3.575000</td>\n",
       "      <td>215.000000</td>\n",
       "      <td>112.200000</td>\n",
       "      <td>73.425000</td>\n",
       "      <td>196.125000</td>\n",
       "      <td>3.821500</td>\n",
       "      <td>19.575000</td>\n",
       "      <td>26.000000</td>\n",
       "      <td>18.080750</td>\n",
       "    </tr>\n",
       "    <tr>\n",
       "      <th>max</th>\n",
       "      <td>53.512500</td>\n",
       "      <td>5.487500</td>\n",
       "      <td>313.250000</td>\n",
       "      <td>126.000000</td>\n",
       "      <td>79.900000</td>\n",
       "      <td>223.950000</td>\n",
       "      <td>5.094250</td>\n",
       "      <td>25.237500</td>\n",
       "      <td>33.500000</td>\n",
       "      <td>26.410625</td>\n",
       "    </tr>\n",
       "  </tbody>\n",
       "</table>\n",
       "</div>"
      ],
      "text/plain": [
       "       Price_in_thousands  Engine_size  Horsepower   Wheelbase       Width  \\\n",
       "count          156.000000   156.000000  156.000000  156.000000  156.000000   \n",
       "mean            26.490734     3.042067  184.868590  107.285897   71.150000   \n",
       "std             11.539938     0.978600   53.007755    6.973438    3.451872   \n",
       "min              9.235000     1.000000   55.000000   92.600000   62.600000   \n",
       "25%             18.081250     2.300000  149.500000  103.000000   68.400000   \n",
       "50%             23.099500     3.000000  177.500000  107.000000   70.550000   \n",
       "75%             32.253750     3.575000  215.000000  112.200000   73.425000   \n",
       "max             53.512500     5.487500  313.250000  126.000000   79.900000   \n",
       "\n",
       "           Length  Curb_weight  Fuel_capacity  Fuel_efficiency      Resale  \n",
       "count  156.000000   156.000000     156.000000       156.000000  156.000000  \n",
       "mean   187.340705     3.374872      17.787420        23.804487   16.396100  \n",
       "std     13.411235     0.608496       3.432476         4.021143    5.310127  \n",
       "min    149.750000     1.895000      10.300000        15.000000    5.160000  \n",
       "25%    177.575000     2.973000      15.800000        21.000000   12.527500  \n",
       "50%    187.900000     3.355000      17.200000        24.000000   17.617500  \n",
       "75%    196.125000     3.821500      19.575000        26.000000   18.080750  \n",
       "max    223.950000     5.094250      25.237500        33.500000   26.410625  "
      ]
     },
     "execution_count": 16,
     "metadata": {},
     "output_type": "execute_result"
    }
   ],
   "source": [
    "new.describe() "
   ]
  },
  {
   "cell_type": "code",
   "execution_count": 17,
   "id": "789201f2",
   "metadata": {},
   "outputs": [
    {
     "data": {
      "text/plain": [
       "Price_in_thousands    0\n",
       "Engine_size           0\n",
       "Horsepower            0\n",
       "Wheelbase             0\n",
       "Width                 0\n",
       "Length                0\n",
       "Curb_weight           0\n",
       "Fuel_capacity         0\n",
       "Fuel_efficiency       0\n",
       "Resale                0\n",
       "dtype: int64"
      ]
     },
     "execution_count": 17,
     "metadata": {},
     "output_type": "execute_result"
    }
   ],
   "source": [
    "new.isna().sum() "
   ]
  },
  {
   "cell_type": "markdown",
   "id": "05d670c5",
   "metadata": {},
   "source": [
    "## Step 3 : Splitting the data in Training and Test set\n",
    "* Using sklearn we split 70% of our data into training set and rest in test set.\n",
    "* Setting random_state will give the same training and test set everytime on running the code"
   ]
  },
  {
   "cell_type": "code",
   "execution_count": 18,
   "id": "499624ba",
   "metadata": {},
   "outputs": [
    {
     "data": {
      "text/html": [
       "<div>\n",
       "<style scoped>\n",
       "    .dataframe tbody tr th:only-of-type {\n",
       "        vertical-align: middle;\n",
       "    }\n",
       "\n",
       "    .dataframe tbody tr th {\n",
       "        vertical-align: top;\n",
       "    }\n",
       "\n",
       "    .dataframe thead th {\n",
       "        text-align: right;\n",
       "    }\n",
       "</style>\n",
       "<table border=\"1\" class=\"dataframe\">\n",
       "  <thead>\n",
       "    <tr style=\"text-align: right;\">\n",
       "      <th></th>\n",
       "      <th>Price_in_thousands</th>\n",
       "      <th>Engine_size</th>\n",
       "      <th>Horsepower</th>\n",
       "      <th>Wheelbase</th>\n",
       "      <th>Width</th>\n",
       "      <th>Length</th>\n",
       "      <th>Curb_weight</th>\n",
       "      <th>Fuel_capacity</th>\n",
       "      <th>Fuel_efficiency</th>\n",
       "      <th>Resale</th>\n",
       "    </tr>\n",
       "  </thead>\n",
       "  <tbody>\n",
       "    <tr>\n",
       "      <th>0</th>\n",
       "      <td>21.50</td>\n",
       "      <td>1.8</td>\n",
       "      <td>140.0</td>\n",
       "      <td>101.2</td>\n",
       "      <td>67.3</td>\n",
       "      <td>172.4</td>\n",
       "      <td>2.639</td>\n",
       "      <td>13.2</td>\n",
       "      <td>28.0</td>\n",
       "      <td>16.360000</td>\n",
       "    </tr>\n",
       "    <tr>\n",
       "      <th>1</th>\n",
       "      <td>28.40</td>\n",
       "      <td>3.2</td>\n",
       "      <td>225.0</td>\n",
       "      <td>108.1</td>\n",
       "      <td>70.3</td>\n",
       "      <td>192.9</td>\n",
       "      <td>3.517</td>\n",
       "      <td>17.2</td>\n",
       "      <td>25.0</td>\n",
       "      <td>19.875000</td>\n",
       "    </tr>\n",
       "    <tr>\n",
       "      <th>2</th>\n",
       "      <td>35.00</td>\n",
       "      <td>3.2</td>\n",
       "      <td>225.0</td>\n",
       "      <td>106.9</td>\n",
       "      <td>70.6</td>\n",
       "      <td>192.0</td>\n",
       "      <td>3.470</td>\n",
       "      <td>17.2</td>\n",
       "      <td>26.0</td>\n",
       "      <td>18.225000</td>\n",
       "    </tr>\n",
       "    <tr>\n",
       "      <th>3</th>\n",
       "      <td>42.00</td>\n",
       "      <td>3.5</td>\n",
       "      <td>210.0</td>\n",
       "      <td>114.6</td>\n",
       "      <td>71.4</td>\n",
       "      <td>196.6</td>\n",
       "      <td>3.850</td>\n",
       "      <td>18.0</td>\n",
       "      <td>22.0</td>\n",
       "      <td>26.410625</td>\n",
       "    </tr>\n",
       "    <tr>\n",
       "      <th>4</th>\n",
       "      <td>23.99</td>\n",
       "      <td>1.8</td>\n",
       "      <td>150.0</td>\n",
       "      <td>102.6</td>\n",
       "      <td>68.2</td>\n",
       "      <td>178.0</td>\n",
       "      <td>2.998</td>\n",
       "      <td>16.4</td>\n",
       "      <td>27.0</td>\n",
       "      <td>22.255000</td>\n",
       "    </tr>\n",
       "  </tbody>\n",
       "</table>\n",
       "</div>"
      ],
      "text/plain": [
       "   Price_in_thousands  Engine_size  Horsepower  Wheelbase  Width  Length  \\\n",
       "0               21.50          1.8       140.0      101.2   67.3   172.4   \n",
       "1               28.40          3.2       225.0      108.1   70.3   192.9   \n",
       "2               35.00          3.2       225.0      106.9   70.6   192.0   \n",
       "3               42.00          3.5       210.0      114.6   71.4   196.6   \n",
       "4               23.99          1.8       150.0      102.6   68.2   178.0   \n",
       "\n",
       "   Curb_weight  Fuel_capacity  Fuel_efficiency     Resale  \n",
       "0        2.639           13.2             28.0  16.360000  \n",
       "1        3.517           17.2             25.0  19.875000  \n",
       "2        3.470           17.2             26.0  18.225000  \n",
       "3        3.850           18.0             22.0  26.410625  \n",
       "4        2.998           16.4             27.0  22.255000  "
      ]
     },
     "execution_count": 18,
     "metadata": {},
     "output_type": "execute_result"
    }
   ],
   "source": [
    "new.head()"
   ]
  },
  {
   "cell_type": "code",
   "execution_count": 19,
   "id": "09a70344",
   "metadata": {},
   "outputs": [],
   "source": [
    "df=np.sqrt(new)"
   ]
  },
  {
   "cell_type": "code",
   "execution_count": 20,
   "id": "7ab66652",
   "metadata": {},
   "outputs": [],
   "source": [
    "df1=np.sqrt(df)"
   ]
  },
  {
   "cell_type": "code",
   "execution_count": 22,
   "id": "9df860a6",
   "metadata": {},
   "outputs": [],
   "source": [
    "# Putting feature variable to X\n",
    "X = df1.drop('Resale', axis= 1)\n",
    "\n",
    "# Putting response variable to y\n",
    "y = df1[['Resale']]\n",
    "\n",
    "#random_state is the seed used by the random number generator. It can be any integer.\n",
    "from sklearn.model_selection import train_test_split\n",
    "X_train, X_test, y_train, y_test =train_test_split(X, y, train_size=0.7 ,random_state=120)"
   ]
  },
  {
   "cell_type": "code",
   "execution_count": 23,
   "id": "3c272e86",
   "metadata": {},
   "outputs": [
    {
     "data": {
      "text/html": [
       "<div>\n",
       "<style scoped>\n",
       "    .dataframe tbody tr th:only-of-type {\n",
       "        vertical-align: middle;\n",
       "    }\n",
       "\n",
       "    .dataframe tbody tr th {\n",
       "        vertical-align: top;\n",
       "    }\n",
       "\n",
       "    .dataframe thead th {\n",
       "        text-align: right;\n",
       "    }\n",
       "</style>\n",
       "<table border=\"1\" class=\"dataframe\">\n",
       "  <thead>\n",
       "    <tr style=\"text-align: right;\">\n",
       "      <th></th>\n",
       "      <th>Resale</th>\n",
       "      <th>Price_in_thousands</th>\n",
       "      <th>Engine_size</th>\n",
       "      <th>Horsepower</th>\n",
       "      <th>Wheelbase</th>\n",
       "      <th>Width</th>\n",
       "      <th>Length</th>\n",
       "      <th>Curb_weight</th>\n",
       "      <th>Fuel_capacity</th>\n",
       "      <th>Fuel_efficiency</th>\n",
       "    </tr>\n",
       "  </thead>\n",
       "  <tbody>\n",
       "    <tr>\n",
       "      <th>59</th>\n",
       "      <td>2.046042</td>\n",
       "      <td>2.271017</td>\n",
       "      <td>1.337481</td>\n",
       "      <td>3.783890</td>\n",
       "      <td>3.211703</td>\n",
       "      <td>2.896631</td>\n",
       "      <td>3.653650</td>\n",
       "      <td>1.401401</td>\n",
       "      <td>2.143239</td>\n",
       "      <td>2.087798</td>\n",
       "    </tr>\n",
       "    <tr>\n",
       "      <th>3</th>\n",
       "      <td>2.266964</td>\n",
       "      <td>2.545730</td>\n",
       "      <td>1.367782</td>\n",
       "      <td>3.806754</td>\n",
       "      <td>3.271871</td>\n",
       "      <td>2.906863</td>\n",
       "      <td>3.744518</td>\n",
       "      <td>1.400765</td>\n",
       "      <td>2.059767</td>\n",
       "      <td>2.165737</td>\n",
       "    </tr>\n",
       "    <tr>\n",
       "      <th>113</th>\n",
       "      <td>1.668497</td>\n",
       "      <td>1.885544</td>\n",
       "      <td>1.189207</td>\n",
       "      <td>3.389561</td>\n",
       "      <td>3.201086</td>\n",
       "      <td>2.936928</td>\n",
       "      <td>3.634014</td>\n",
       "      <td>1.264788</td>\n",
       "      <td>1.880302</td>\n",
       "      <td>2.320596</td>\n",
       "    </tr>\n",
       "    <tr>\n",
       "      <th>85</th>\n",
       "      <td>1.722347</td>\n",
       "      <td>2.007458</td>\n",
       "      <td>1.189207</td>\n",
       "      <td>3.343702</td>\n",
       "      <td>3.212458</td>\n",
       "      <td>2.883165</td>\n",
       "      <td>3.687020</td>\n",
       "      <td>1.289973</td>\n",
       "      <td>1.967990</td>\n",
       "      <td>2.300327</td>\n",
       "    </tr>\n",
       "    <tr>\n",
       "      <th>152</th>\n",
       "      <td>2.061510</td>\n",
       "      <td>2.289988</td>\n",
       "      <td>1.244666</td>\n",
       "      <td>3.600206</td>\n",
       "      <td>3.200323</td>\n",
       "      <td>2.885249</td>\n",
       "      <td>3.692494</td>\n",
       "      <td>1.338316</td>\n",
       "      <td>2.056900</td>\n",
       "      <td>2.236068</td>\n",
       "    </tr>\n",
       "  </tbody>\n",
       "</table>\n",
       "</div>"
      ],
      "text/plain": [
       "       Resale  Price_in_thousands  Engine_size  Horsepower  Wheelbase  \\\n",
       "59   2.046042            2.271017     1.337481    3.783890   3.211703   \n",
       "3    2.266964            2.545730     1.367782    3.806754   3.271871   \n",
       "113  1.668497            1.885544     1.189207    3.389561   3.201086   \n",
       "85   1.722347            2.007458     1.189207    3.343702   3.212458   \n",
       "152  2.061510            2.289988     1.244666    3.600206   3.200323   \n",
       "\n",
       "        Width    Length  Curb_weight  Fuel_capacity  Fuel_efficiency  \n",
       "59   2.896631  3.653650     1.401401       2.143239         2.087798  \n",
       "3    2.906863  3.744518     1.400765       2.059767         2.165737  \n",
       "113  2.936928  3.634014     1.264788       1.880302         2.320596  \n",
       "85   2.883165  3.687020     1.289973       1.967990         2.300327  \n",
       "152  2.885249  3.692494     1.338316       2.056900         2.236068  "
      ]
     },
     "execution_count": 23,
     "metadata": {},
     "output_type": "execute_result"
    }
   ],
   "source": [
    "data = pd.concat([y_train, X_train], axis=1)\n",
    "data.head()"
   ]
  },
  {
   "cell_type": "markdown",
   "id": "8f837d66",
   "metadata": {},
   "source": [
    "# Correlation Matrix"
   ]
  },
  {
   "cell_type": "code",
   "execution_count": 24,
   "id": "7cfd505d",
   "metadata": {},
   "outputs": [
    {
     "data": {
      "text/html": [
       "<div>\n",
       "<style scoped>\n",
       "    .dataframe tbody tr th:only-of-type {\n",
       "        vertical-align: middle;\n",
       "    }\n",
       "\n",
       "    .dataframe tbody tr th {\n",
       "        vertical-align: top;\n",
       "    }\n",
       "\n",
       "    .dataframe thead th {\n",
       "        text-align: right;\n",
       "    }\n",
       "</style>\n",
       "<table border=\"1\" class=\"dataframe\">\n",
       "  <thead>\n",
       "    <tr style=\"text-align: right;\">\n",
       "      <th></th>\n",
       "      <th>Resale</th>\n",
       "      <th>Price_in_thousands</th>\n",
       "      <th>Engine_size</th>\n",
       "      <th>Horsepower</th>\n",
       "      <th>Wheelbase</th>\n",
       "      <th>Width</th>\n",
       "      <th>Length</th>\n",
       "      <th>Curb_weight</th>\n",
       "      <th>Fuel_capacity</th>\n",
       "      <th>Fuel_efficiency</th>\n",
       "    </tr>\n",
       "  </thead>\n",
       "  <tbody>\n",
       "    <tr>\n",
       "      <th>Resale</th>\n",
       "      <td>1.000000</td>\n",
       "      <td>0.826703</td>\n",
       "      <td>0.561578</td>\n",
       "      <td>0.709660</td>\n",
       "      <td>0.300361</td>\n",
       "      <td>0.276860</td>\n",
       "      <td>0.264270</td>\n",
       "      <td>0.618697</td>\n",
       "      <td>0.542876</td>\n",
       "      <td>-0.537262</td>\n",
       "    </tr>\n",
       "    <tr>\n",
       "      <th>Price_in_thousands</th>\n",
       "      <td>0.826703</td>\n",
       "      <td>1.000000</td>\n",
       "      <td>0.714493</td>\n",
       "      <td>0.878588</td>\n",
       "      <td>0.386340</td>\n",
       "      <td>0.434087</td>\n",
       "      <td>0.314672</td>\n",
       "      <td>0.717578</td>\n",
       "      <td>0.636395</td>\n",
       "      <td>-0.672407</td>\n",
       "    </tr>\n",
       "    <tr>\n",
       "      <th>Engine_size</th>\n",
       "      <td>0.561578</td>\n",
       "      <td>0.714493</td>\n",
       "      <td>1.000000</td>\n",
       "      <td>0.870424</td>\n",
       "      <td>0.667938</td>\n",
       "      <td>0.757612</td>\n",
       "      <td>0.697868</td>\n",
       "      <td>0.862878</td>\n",
       "      <td>0.764828</td>\n",
       "      <td>-0.784874</td>\n",
       "    </tr>\n",
       "    <tr>\n",
       "      <th>Horsepower</th>\n",
       "      <td>0.709660</td>\n",
       "      <td>0.878588</td>\n",
       "      <td>0.870424</td>\n",
       "      <td>1.000000</td>\n",
       "      <td>0.552974</td>\n",
       "      <td>0.620977</td>\n",
       "      <td>0.556044</td>\n",
       "      <td>0.777080</td>\n",
       "      <td>0.697721</td>\n",
       "      <td>-0.701638</td>\n",
       "    </tr>\n",
       "    <tr>\n",
       "      <th>Wheelbase</th>\n",
       "      <td>0.300361</td>\n",
       "      <td>0.386340</td>\n",
       "      <td>0.667938</td>\n",
       "      <td>0.552974</td>\n",
       "      <td>1.000000</td>\n",
       "      <td>0.767723</td>\n",
       "      <td>0.850599</td>\n",
       "      <td>0.725517</td>\n",
       "      <td>0.708277</td>\n",
       "      <td>-0.583841</td>\n",
       "    </tr>\n",
       "    <tr>\n",
       "      <th>Width</th>\n",
       "      <td>0.276860</td>\n",
       "      <td>0.434087</td>\n",
       "      <td>0.757612</td>\n",
       "      <td>0.620977</td>\n",
       "      <td>0.767723</td>\n",
       "      <td>1.000000</td>\n",
       "      <td>0.739667</td>\n",
       "      <td>0.719196</td>\n",
       "      <td>0.645176</td>\n",
       "      <td>-0.627071</td>\n",
       "    </tr>\n",
       "    <tr>\n",
       "      <th>Length</th>\n",
       "      <td>0.264270</td>\n",
       "      <td>0.314672</td>\n",
       "      <td>0.697868</td>\n",
       "      <td>0.556044</td>\n",
       "      <td>0.850599</td>\n",
       "      <td>0.739667</td>\n",
       "      <td>1.000000</td>\n",
       "      <td>0.684595</td>\n",
       "      <td>0.665173</td>\n",
       "      <td>-0.488688</td>\n",
       "    </tr>\n",
       "    <tr>\n",
       "      <th>Curb_weight</th>\n",
       "      <td>0.618697</td>\n",
       "      <td>0.717578</td>\n",
       "      <td>0.862878</td>\n",
       "      <td>0.777080</td>\n",
       "      <td>0.725517</td>\n",
       "      <td>0.719196</td>\n",
       "      <td>0.684595</td>\n",
       "      <td>1.000000</td>\n",
       "      <td>0.894353</td>\n",
       "      <td>-0.881773</td>\n",
       "    </tr>\n",
       "    <tr>\n",
       "      <th>Fuel_capacity</th>\n",
       "      <td>0.542876</td>\n",
       "      <td>0.636395</td>\n",
       "      <td>0.764828</td>\n",
       "      <td>0.697721</td>\n",
       "      <td>0.708277</td>\n",
       "      <td>0.645176</td>\n",
       "      <td>0.665173</td>\n",
       "      <td>0.894353</td>\n",
       "      <td>1.000000</td>\n",
       "      <td>-0.826523</td>\n",
       "    </tr>\n",
       "    <tr>\n",
       "      <th>Fuel_efficiency</th>\n",
       "      <td>-0.537262</td>\n",
       "      <td>-0.672407</td>\n",
       "      <td>-0.784874</td>\n",
       "      <td>-0.701638</td>\n",
       "      <td>-0.583841</td>\n",
       "      <td>-0.627071</td>\n",
       "      <td>-0.488688</td>\n",
       "      <td>-0.881773</td>\n",
       "      <td>-0.826523</td>\n",
       "      <td>1.000000</td>\n",
       "    </tr>\n",
       "  </tbody>\n",
       "</table>\n",
       "</div>"
      ],
      "text/plain": [
       "                      Resale  Price_in_thousands  Engine_size  Horsepower  \\\n",
       "Resale              1.000000            0.826703     0.561578    0.709660   \n",
       "Price_in_thousands  0.826703            1.000000     0.714493    0.878588   \n",
       "Engine_size         0.561578            0.714493     1.000000    0.870424   \n",
       "Horsepower          0.709660            0.878588     0.870424    1.000000   \n",
       "Wheelbase           0.300361            0.386340     0.667938    0.552974   \n",
       "Width               0.276860            0.434087     0.757612    0.620977   \n",
       "Length              0.264270            0.314672     0.697868    0.556044   \n",
       "Curb_weight         0.618697            0.717578     0.862878    0.777080   \n",
       "Fuel_capacity       0.542876            0.636395     0.764828    0.697721   \n",
       "Fuel_efficiency    -0.537262           -0.672407    -0.784874   -0.701638   \n",
       "\n",
       "                    Wheelbase     Width    Length  Curb_weight  Fuel_capacity  \\\n",
       "Resale               0.300361  0.276860  0.264270     0.618697       0.542876   \n",
       "Price_in_thousands   0.386340  0.434087  0.314672     0.717578       0.636395   \n",
       "Engine_size          0.667938  0.757612  0.697868     0.862878       0.764828   \n",
       "Horsepower           0.552974  0.620977  0.556044     0.777080       0.697721   \n",
       "Wheelbase            1.000000  0.767723  0.850599     0.725517       0.708277   \n",
       "Width                0.767723  1.000000  0.739667     0.719196       0.645176   \n",
       "Length               0.850599  0.739667  1.000000     0.684595       0.665173   \n",
       "Curb_weight          0.725517  0.719196  0.684595     1.000000       0.894353   \n",
       "Fuel_capacity        0.708277  0.645176  0.665173     0.894353       1.000000   \n",
       "Fuel_efficiency     -0.583841 -0.627071 -0.488688    -0.881773      -0.826523   \n",
       "\n",
       "                    Fuel_efficiency  \n",
       "Resale                    -0.537262  \n",
       "Price_in_thousands        -0.672407  \n",
       "Engine_size               -0.784874  \n",
       "Horsepower                -0.701638  \n",
       "Wheelbase                 -0.583841  \n",
       "Width                     -0.627071  \n",
       "Length                    -0.488688  \n",
       "Curb_weight               -0.881773  \n",
       "Fuel_capacity             -0.826523  \n",
       "Fuel_efficiency            1.000000  "
      ]
     },
     "execution_count": 24,
     "metadata": {},
     "output_type": "execute_result"
    }
   ],
   "source": [
    "data.corr()"
   ]
  },
  {
   "cell_type": "code",
   "execution_count": 25,
   "id": "9e5ead16",
   "metadata": {},
   "outputs": [],
   "source": [
    "sns.set(rc = {'figure.figsize':(15,8)})"
   ]
  },
  {
   "cell_type": "code",
   "execution_count": 26,
   "id": "5cc9f6a5",
   "metadata": {},
   "outputs": [
    {
     "data": {
      "text/plain": [
       "<AxesSubplot:>"
      ]
     },
     "execution_count": 26,
     "metadata": {},
     "output_type": "execute_result"
    },
    {
     "data": {
      "image/png": "[encoded data removed]",
      "text/plain": [
       "<Figure size 1080x576 with 2 Axes>"
      ]
     },
     "metadata": {},
     "output_type": "display_data"
    }
   ],
   "source": [
    "sns.heatmap(data.corr(),annot = True)"
   ]
  },
  {
   "cell_type": "code",
   "execution_count": 27,
   "id": "c3a4b09d",
   "metadata": {},
   "outputs": [
    {
     "name": "stderr",
     "output_type": "stream",
     "text": [
      "*c* argument looks like a single numeric RGB or RGBA sequence, which should be avoided as value-mapping will have precedence in case its length matches with *x* & *y*.  Please use the *color* keyword-argument or provide a 2D array with a single row if you intend to specify the same RGB or RGBA value for all points.\n"
     ]
    },
    {
     "data": {
      "text/plain": [
       "<AxesSubplot:title={'center':'Resale vs Price_in_thousands'}, xlabel='Price_in_thousands', ylabel='Resale'>"
      ]
     },
     "execution_count": 27,
     "metadata": {},
     "output_type": "execute_result"
    },
    {
     "data": {
      "image/png": "[encoded data removed]",
      "text/plain": [
       "<Figure size 1080x576 with 1 Axes>"
      ]
     },
     "metadata": {},
     "output_type": "display_data"
    }
   ],
   "source": [
    "data.plot.scatter(x='Price_in_thousands', y='Resale', title='Resale vs Price_in_thousands')"
   ]
  },
  {
   "cell_type": "markdown",
   "id": "85dfa510",
   "metadata": {},
   "source": [
    "Price in thousands have 80% strong positve correlation with Resale\n",
    "\n",
    "Price in thousands have high impact on Resale\n",
    "\n",
    "There is  colinearity in data"
   ]
  },
  {
   "cell_type": "markdown",
   "id": "4138adf3",
   "metadata": {},
   "source": [
    "#### Multicolinearity (with the help of VIF)"
   ]
  },
  {
   "cell_type": "code",
   "execution_count": 55,
   "id": "bbb46d32",
   "metadata": {},
   "outputs": [
    {
     "ename": "NameError",
     "evalue": "name 'X1' is not defined",
     "output_type": "error",
     "traceback": [
      "\u001b[1;31m---------------------------------------------------------------------------\u001b[0m",
      "\u001b[1;31mNameError\u001b[0m                                 Traceback (most recent call last)",
      "\u001b[1;32m~\\AppData\\Local\\Temp/ipykernel_6832/513414867.py\u001b[0m in \u001b[0;36m<module>\u001b[1;34m\u001b[0m\n\u001b[1;32m----> 1\u001b[1;33m \u001b[0mX1\u001b[0m\u001b[1;33m.\u001b[0m\u001b[0mvalues\u001b[0m\u001b[1;33m\u001b[0m\u001b[1;33m\u001b[0m\u001b[0m\n\u001b[0m",
      "\u001b[1;31mNameError\u001b[0m: name 'X1' is not defined"
     ]
    }
   ],
   "source": [
    "X1.values"
   ]
  },
  {
   "cell_type": "code",
   "execution_count": null,
   "id": "a05a929c",
   "metadata": {},
   "outputs": [],
   "source": [
    "X1.shape[1]"
   ]
  },
  {
   "cell_type": "code",
   "execution_count": null,
   "id": "0ffd05b8",
   "metadata": {},
   "outputs": [],
   "source": [
    "X1.columns"
   ]
  },
  {
   "cell_type": "code",
   "execution_count": 28,
   "id": "3b6baaf6",
   "metadata": {},
   "outputs": [
    {
     "data": {
      "text/plain": [
       "Price_in_thousands      594.242387\n",
       "Engine_size            1174.820651\n",
       "Horsepower             1858.945134\n",
       "Wheelbase             19558.579645\n",
       "Width                 13310.243679\n",
       "Length                17478.917046\n",
       "Curb_weight            5161.503245\n",
       "Fuel_capacity          2227.556554\n",
       "Fuel_efficiency        2268.449516\n",
       "dtype: float64"
      ]
     },
     "execution_count": 28,
     "metadata": {},
     "output_type": "execute_result"
    }
   ],
   "source": [
    "X1=data.drop(['Resale'],axis=1)\n",
    "series_before = pd.Series([variance_inflation_factor(X1.values, i) \n",
    "                           for i in range(X1.shape[1])],  # i=0,1,2\n",
    "                          index=X1.columns)  # column name\n",
    "series_before"
   ]
  },
  {
   "cell_type": "markdown",
   "id": "752b6ef3",
   "metadata": {},
   "source": [
    "### Multicollinearity exist"
   ]
  },
  {
   "cell_type": "markdown",
   "id": "9bcb887a",
   "metadata": {},
   "source": [
    "Model Building\n",
    "\n",
    "H0 :- There is no Linear relationship between Resale and Price in thousands,Engine size,Horsepower,Wheelbase,Width,Length,\n",
    "    Curb weight,Fuel capacity,Fuel efficiency\n",
    "\n",
    "Vs\n",
    "\n",
    "H1 :- There is Linear relationship between Resale and Price in thousands,Engine size,Horsepower,Wheelbase,Width,Length,\n",
    "    Curb weight,Fuel capacity,Fuel efficiency\n",
    "\n",
    "Alpha = 0.05 (5%)"
   ]
  },
  {
   "cell_type": "code",
   "execution_count": 29,
   "id": "a711149b",
   "metadata": {},
   "outputs": [
    {
     "data": {
      "text/html": [
       "<table class=\"simpletable\">\n",
       "<caption>OLS Regression Results</caption>\n",
       "<tr>\n",
       "  <th>Dep. Variable:</th>         <td>Resale</td>      <th>  R-squared:         </th> <td>   0.717</td>\n",
       "</tr>\n",
       "<tr>\n",
       "  <th>Model:</th>                   <td>OLS</td>       <th>  Adj. R-squared:    </th> <td>   0.691</td>\n",
       "</tr>\n",
       "<tr>\n",
       "  <th>Method:</th>             <td>Least Squares</td>  <th>  F-statistic:       </th> <td>   27.84</td>\n",
       "</tr>\n",
       "<tr>\n",
       "  <th>Date:</th>             <td>Thu, 19 May 2022</td> <th>  Prob (F-statistic):</th> <td>2.09e-23</td>\n",
       "</tr>\n",
       "<tr>\n",
       "  <th>Time:</th>                 <td>12:24:25</td>     <th>  Log-Likelihood:    </th> <td>  105.03</td>\n",
       "</tr>\n",
       "<tr>\n",
       "  <th>No. Observations:</th>      <td>   109</td>      <th>  AIC:               </th> <td>  -190.1</td>\n",
       "</tr>\n",
       "<tr>\n",
       "  <th>Df Residuals:</th>          <td>    99</td>      <th>  BIC:               </th> <td>  -163.1</td>\n",
       "</tr>\n",
       "<tr>\n",
       "  <th>Df Model:</th>              <td>     9</td>      <th>                     </th>     <td> </td>   \n",
       "</tr>\n",
       "<tr>\n",
       "  <th>Covariance Type:</th>      <td>nonrobust</td>    <th>                     </th>     <td> </td>   \n",
       "</tr>\n",
       "</table>\n",
       "<table class=\"simpletable\">\n",
       "<tr>\n",
       "           <td></td>             <th>coef</th>     <th>std err</th>      <th>t</th>      <th>P>|t|</th>  <th>[0.025</th>    <th>0.975]</th>  \n",
       "</tr>\n",
       "<tr>\n",
       "  <th>Intercept</th>          <td>    1.5670</td> <td>    1.341</td> <td>    1.169</td> <td> 0.245</td> <td>   -1.093</td> <td>    4.227</td>\n",
       "</tr>\n",
       "<tr>\n",
       "  <th>Price_in_thousands</th> <td>    0.5668</td> <td>    0.103</td> <td>    5.502</td> <td> 0.000</td> <td>    0.362</td> <td>    0.771</td>\n",
       "</tr>\n",
       "<tr>\n",
       "  <th>Engine_size</th>        <td>   -0.1723</td> <td>    0.249</td> <td>   -0.693</td> <td> 0.490</td> <td>   -0.665</td> <td>    0.321</td>\n",
       "</tr>\n",
       "<tr>\n",
       "  <th>Horsepower</th>         <td>    0.0206</td> <td>    0.110</td> <td>    0.188</td> <td> 0.852</td> <td>   -0.197</td> <td>    0.238</td>\n",
       "</tr>\n",
       "<tr>\n",
       "  <th>Wheelbase</th>          <td>   -0.1692</td> <td>    0.405</td> <td>   -0.417</td> <td> 0.677</td> <td>   -0.974</td> <td>    0.635</td>\n",
       "</tr>\n",
       "<tr>\n",
       "  <th>Width</th>              <td>   -0.9936</td> <td>    0.482</td> <td>   -2.063</td> <td> 0.042</td> <td>   -1.949</td> <td>   -0.038</td>\n",
       "</tr>\n",
       "<tr>\n",
       "  <th>Length</th>             <td>    0.2055</td> <td>    0.333</td> <td>    0.617</td> <td> 0.538</td> <td>   -0.455</td> <td>    0.866</td>\n",
       "</tr>\n",
       "<tr>\n",
       "  <th>Curb_weight</th>        <td>    1.0684</td> <td>    0.501</td> <td>    2.134</td> <td> 0.035</td> <td>    0.075</td> <td>    2.062</td>\n",
       "</tr>\n",
       "<tr>\n",
       "  <th>Fuel_capacity</th>      <td>   -0.0217</td> <td>    0.215</td> <td>   -0.101</td> <td> 0.920</td> <td>   -0.449</td> <td>    0.406</td>\n",
       "</tr>\n",
       "<tr>\n",
       "  <th>Fuel_efficiency</th>    <td>    0.2619</td> <td>    0.240</td> <td>    1.090</td> <td> 0.278</td> <td>   -0.215</td> <td>    0.738</td>\n",
       "</tr>\n",
       "</table>\n",
       "<table class=\"simpletable\">\n",
       "<tr>\n",
       "  <th>Omnibus:</th>       <td> 1.034</td> <th>  Durbin-Watson:     </th> <td>   1.977</td>\n",
       "</tr>\n",
       "<tr>\n",
       "  <th>Prob(Omnibus):</th> <td> 0.596</td> <th>  Jarque-Bera (JB):  </th> <td>   0.868</td>\n",
       "</tr>\n",
       "<tr>\n",
       "  <th>Skew:</th>          <td> 0.219</td> <th>  Prob(JB):          </th> <td>   0.648</td>\n",
       "</tr>\n",
       "<tr>\n",
       "  <th>Kurtosis:</th>      <td> 2.987</td> <th>  Cond. No.          </th> <td>1.20e+03</td>\n",
       "</tr>\n",
       "</table><br/><br/>Notes:<br/>[1] Standard Errors assume that the covariance matrix of the errors is correctly specified.<br/>[2] The condition number is large, 1.2e+03. This might indicate that there are<br/>strong multicollinearity or other numerical problems."
      ],
      "text/plain": [
       "<class 'statsmodels.iolib.summary.Summary'>\n",
       "\"\"\"\n",
       "                            OLS Regression Results                            \n",
       "==============================================================================\n",
       "Dep. Variable:                 Resale   R-squared:                       0.717\n",
       "Model:                            OLS   Adj. R-squared:                  0.691\n",
       "Method:                 Least Squares   F-statistic:                     27.84\n",
       "Date:                Thu, 19 May 2022   Prob (F-statistic):           2.09e-23\n",
       "Time:                        12:24:25   Log-Likelihood:                 105.03\n",
       "No. Observations:                 109   AIC:                            -190.1\n",
       "Df Residuals:                      99   BIC:                            -163.1\n",
       "Df Model:                           9                                         \n",
       "Covariance Type:            nonrobust                                         \n",
       "======================================================================================\n",
       "                         coef    std err          t      P>|t|      [0.025      0.975]\n",
       "--------------------------------------------------------------------------------------\n",
       "Intercept              1.5670      1.341      1.169      0.245      -1.093       4.227\n",
       "Price_in_thousands     0.5668      0.103      5.502      0.000       0.362       0.771\n",
       "Engine_size           -0.1723      0.249     -0.693      0.490      -0.665       0.321\n",
       "Horsepower             0.0206      0.110      0.188      0.852      -0.197       0.238\n",
       "Wheelbase             -0.1692      0.405     -0.417      0.677      -0.974       0.635\n",
       "Width                 -0.9936      0.482     -2.063      0.042      -1.949      -0.038\n",
       "Length                 0.2055      0.333      0.617      0.538      -0.455       0.866\n",
       "Curb_weight            1.0684      0.501      2.134      0.035       0.075       2.062\n",
       "Fuel_capacity         -0.0217      0.215     -0.101      0.920      -0.449       0.406\n",
       "Fuel_efficiency        0.2619      0.240      1.090      0.278      -0.215       0.738\n",
       "==============================================================================\n",
       "Omnibus:                        1.034   Durbin-Watson:                   1.977\n",
       "Prob(Omnibus):                  0.596   Jarque-Bera (JB):                0.868\n",
       "Skew:                           0.219   Prob(JB):                        0.648\n",
       "Kurtosis:                       2.987   Cond. No.                     1.20e+03\n",
       "==============================================================================\n",
       "\n",
       "Notes:\n",
       "[1] Standard Errors assume that the covariance matrix of the errors is correctly specified.\n",
       "[2] The condition number is large, 1.2e+03. This might indicate that there are\n",
       "strong multicollinearity or other numerical problems.\n",
       "\"\"\""
      ]
     },
     "execution_count": 29,
     "metadata": {},
     "output_type": "execute_result"
    }
   ],
   "source": [
    "import statsmodels.formula.api as smf\n",
    "model2=smf.ols('Resale ~ Price_in_thousands+Engine_size+Horsepower+Wheelbase+Width+Length+Curb_weight+Fuel_capacity+Fuel_efficiency',data=data).fit()\n",
    "model2.summary()"
   ]
  },
  {
   "cell_type": "code",
   "execution_count": 38,
   "id": "bfc7d20e",
   "metadata": {},
   "outputs": [
    {
     "data": {
      "text/html": [
       "<table class=\"simpletable\">\n",
       "<caption>OLS Regression Results</caption>\n",
       "<tr>\n",
       "  <th>Dep. Variable:</th>         <td>Resale</td>      <th>  R-squared:         </th> <td>   0.683</td>\n",
       "</tr>\n",
       "<tr>\n",
       "  <th>Model:</th>                   <td>OLS</td>       <th>  Adj. R-squared:    </th> <td>   0.680</td>\n",
       "</tr>\n",
       "<tr>\n",
       "  <th>Method:</th>             <td>Least Squares</td>  <th>  F-statistic:       </th> <td>   231.0</td>\n",
       "</tr>\n",
       "<tr>\n",
       "  <th>Date:</th>             <td>Thu, 19 May 2022</td> <th>  Prob (F-statistic):</th> <td>1.74e-28</td>\n",
       "</tr>\n",
       "<tr>\n",
       "  <th>Time:</th>                 <td>12:27:19</td>     <th>  Log-Likelihood:    </th> <td>  98.962</td>\n",
       "</tr>\n",
       "<tr>\n",
       "  <th>No. Observations:</th>      <td>   109</td>      <th>  AIC:               </th> <td>  -193.9</td>\n",
       "</tr>\n",
       "<tr>\n",
       "  <th>Df Residuals:</th>          <td>   107</td>      <th>  BIC:               </th> <td>  -188.5</td>\n",
       "</tr>\n",
       "<tr>\n",
       "  <th>Df Model:</th>              <td>     1</td>      <th>                     </th>     <td> </td>   \n",
       "</tr>\n",
       "<tr>\n",
       "  <th>Covariance Type:</th>      <td>nonrobust</td>    <th>                     </th>     <td> </td>   \n",
       "</tr>\n",
       "</table>\n",
       "<table class=\"simpletable\">\n",
       "<tr>\n",
       "           <td></td>             <th>coef</th>     <th>std err</th>      <th>t</th>      <th>P>|t|</th>  <th>[0.025</th>    <th>0.975]</th>  \n",
       "</tr>\n",
       "<tr>\n",
       "  <th>Intercept</th>          <td>    0.6516</td> <td>    0.089</td> <td>    7.350</td> <td> 0.000</td> <td>    0.476</td> <td>    0.827</td>\n",
       "</tr>\n",
       "<tr>\n",
       "  <th>Price_in_thousands</th> <td>    0.5998</td> <td>    0.039</td> <td>   15.199</td> <td> 0.000</td> <td>    0.522</td> <td>    0.678</td>\n",
       "</tr>\n",
       "</table>\n",
       "<table class=\"simpletable\">\n",
       "<tr>\n",
       "  <th>Omnibus:</th>       <td> 0.885</td> <th>  Durbin-Watson:     </th> <td>   1.931</td>\n",
       "</tr>\n",
       "<tr>\n",
       "  <th>Prob(Omnibus):</th> <td> 0.642</td> <th>  Jarque-Bera (JB):  </th> <td>   0.978</td>\n",
       "</tr>\n",
       "<tr>\n",
       "  <th>Skew:</th>          <td> 0.199</td> <th>  Prob(JB):          </th> <td>   0.613</td>\n",
       "</tr>\n",
       "<tr>\n",
       "  <th>Kurtosis:</th>      <td> 2.762</td> <th>  Cond. No.          </th> <td>    25.2</td>\n",
       "</tr>\n",
       "</table><br/><br/>Notes:<br/>[1] Standard Errors assume that the covariance matrix of the errors is correctly specified."
      ],
      "text/plain": [
       "<class 'statsmodels.iolib.summary.Summary'>\n",
       "\"\"\"\n",
       "                            OLS Regression Results                            \n",
       "==============================================================================\n",
       "Dep. Variable:                 Resale   R-squared:                       0.683\n",
       "Model:                            OLS   Adj. R-squared:                  0.680\n",
       "Method:                 Least Squares   F-statistic:                     231.0\n",
       "Date:                Thu, 19 May 2022   Prob (F-statistic):           1.74e-28\n",
       "Time:                        12:27:19   Log-Likelihood:                 98.962\n",
       "No. Observations:                 109   AIC:                            -193.9\n",
       "Df Residuals:                     107   BIC:                            -188.5\n",
       "Df Model:                           1                                         \n",
       "Covariance Type:            nonrobust                                         \n",
       "======================================================================================\n",
       "                         coef    std err          t      P>|t|      [0.025      0.975]\n",
       "--------------------------------------------------------------------------------------\n",
       "Intercept              0.6516      0.089      7.350      0.000       0.476       0.827\n",
       "Price_in_thousands     0.5998      0.039     15.199      0.000       0.522       0.678\n",
       "==============================================================================\n",
       "Omnibus:                        0.885   Durbin-Watson:                   1.931\n",
       "Prob(Omnibus):                  0.642   Jarque-Bera (JB):                0.978\n",
       "Skew:                           0.199   Prob(JB):                        0.613\n",
       "Kurtosis:                       2.762   Cond. No.                         25.2\n",
       "==============================================================================\n",
       "\n",
       "Notes:\n",
       "[1] Standard Errors assume that the covariance matrix of the errors is correctly specified.\n",
       "\"\"\""
      ]
     },
     "execution_count": 38,
     "metadata": {},
     "output_type": "execute_result"
    }
   ],
   "source": [
    "import statsmodels.formula.api as smf\n",
    "model2=smf.ols('Resale ~ Price_in_thousands',data=data).fit()\n",
    "model2.summary()"
   ]
  },
  {
   "cell_type": "code",
   "execution_count": null,
   "id": "9e1a9e08",
   "metadata": {},
   "outputs": [],
   "source": []
  },
  {
   "cell_type": "code",
   "execution_count": null,
   "id": "78b06eb5",
   "metadata": {},
   "outputs": [],
   "source": [
    "import statsmodels.formula.api as smf\n",
    "model2=smf.ols('Resale ~ Price_in_thousands',data=df).fit()\n",
    "model2.summary()"
   ]
  },
  {
   "cell_type": "code",
   "execution_count": null,
   "id": "89a4a086",
   "metadata": {},
   "outputs": [],
   "source": []
  }
 ],
 "metadata": {
  "kernelspec": {
   "display_name": "Python 3 (ipykernel)",
   "language": "python",
   "name": "python3"
  },
  "language_info": {
   "codemirror_mode": {
    "name": "ipython",
    "version": 3
   },
   "file_extension": ".py",
   "mimetype": "text/x-python",
   "name": "python",
   "nbconvert_exporter": "python",
   "pygments_lexer": "ipython3",
   "version": "3.9.7"
  }
 },
 "nbformat": 4,
 "nbformat_minor": 5
}
